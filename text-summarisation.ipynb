{
 "cells": [
  {
   "cell_type": "code",
   "execution_count": 1,
   "id": "a4aee461",
   "metadata": {
    "execution": {
     "iopub.execute_input": "2024-03-16T12:17:41.488692Z",
     "iopub.status.busy": "2024-03-16T12:17:41.487816Z",
     "iopub.status.idle": "2024-03-16T12:17:45.218578Z",
     "shell.execute_reply": "2024-03-16T12:17:45.216896Z"
    },
    "papermill": {
     "duration": 3.750697,
     "end_time": "2024-03-16T12:17:45.222351",
     "exception": false,
     "start_time": "2024-03-16T12:17:41.471654",
     "status": "completed"
    },
    "tags": []
   },
   "outputs": [],
   "source": [
    "import numpy as np\n",
    "import pandas as pd\n",
    "\n",
    "import nltk\n",
    "import re\n"
   ]
  },
  {
   "cell_type": "code",
   "execution_count": 2,
   "id": "a53f83a3",
   "metadata": {
    "execution": {
     "iopub.execute_input": "2024-03-16T12:17:45.253205Z",
     "iopub.status.busy": "2024-03-16T12:17:45.252486Z",
     "iopub.status.idle": "2024-03-16T12:17:45.259733Z",
     "shell.execute_reply": "2024-03-16T12:17:45.258075Z"
    },
    "papermill": {
     "duration": 0.026592,
     "end_time": "2024-03-16T12:17:45.263166",
     "exception": false,
     "start_time": "2024-03-16T12:17:45.236574",
     "status": "completed"
    },
    "tags": []
   },
   "outputs": [],
   "source": [
    "punkt_path = \"../input/punkt/punkt/english.pickle\"\n",
    "stopwords_path = \"../input/stopwords/stopwords/english\""
   ]
  },
  {
   "cell_type": "code",
   "execution_count": 3,
   "id": "c422bf9c",
   "metadata": {
    "execution": {
     "iopub.execute_input": "2024-03-16T12:17:45.293684Z",
     "iopub.status.busy": "2024-03-16T12:17:45.293231Z",
     "iopub.status.idle": "2024-03-16T12:17:45.319777Z",
     "shell.execute_reply": "2024-03-16T12:17:45.318404Z"
    },
    "papermill": {
     "duration": 0.045982,
     "end_time": "2024-03-16T12:17:45.323274",
     "exception": false,
     "start_time": "2024-03-16T12:17:45.277292",
     "status": "completed"
    },
    "tags": []
   },
   "outputs": [],
   "source": [
    "data = pd.read_csv(\"../input/tennis-articles/tennis_articles.csv\", encoding = \"ISO-8859-1\")"
   ]
  },
  {
   "cell_type": "code",
   "execution_count": 4,
   "id": "d8a8bdd0",
   "metadata": {
    "execution": {
     "iopub.execute_input": "2024-03-16T12:17:45.354357Z",
     "iopub.status.busy": "2024-03-16T12:17:45.353419Z",
     "iopub.status.idle": "2024-03-16T12:17:45.375492Z",
     "shell.execute_reply": "2024-03-16T12:17:45.374248Z"
    },
    "papermill": {
     "duration": 0.041779,
     "end_time": "2024-03-16T12:17:45.378383",
     "exception": false,
     "start_time": "2024-03-16T12:17:45.336604",
     "status": "completed"
    },
    "tags": []
   },
   "outputs": [
    {
     "data": {
      "text/html": [
       "<div>\n",
       "<style scoped>\n",
       "    .dataframe tbody tr th:only-of-type {\n",
       "        vertical-align: middle;\n",
       "    }\n",
       "\n",
       "    .dataframe tbody tr th {\n",
       "        vertical-align: top;\n",
       "    }\n",
       "\n",
       "    .dataframe thead th {\n",
       "        text-align: right;\n",
       "    }\n",
       "</style>\n",
       "<table border=\"1\" class=\"dataframe\">\n",
       "  <thead>\n",
       "    <tr style=\"text-align: right;\">\n",
       "      <th></th>\n",
       "      <th>article_id</th>\n",
       "      <th>article_title</th>\n",
       "      <th>article_text</th>\n",
       "      <th>source</th>\n",
       "    </tr>\n",
       "  </thead>\n",
       "  <tbody>\n",
       "    <tr>\n",
       "      <th>0</th>\n",
       "      <td>1</td>\n",
       "      <td>I do not have friends in tennis, says Maria Sh...</td>\n",
       "      <td>Maria Sharapova has basically no friends as te...</td>\n",
       "      <td>https://www.tennisworldusa.org/tennis/news/Mar...</td>\n",
       "    </tr>\n",
       "    <tr>\n",
       "      <th>1</th>\n",
       "      <td>2</td>\n",
       "      <td>Federer defeats Medvedev to advance to 14th Sw...</td>\n",
       "      <td>BASEL, Switzerland (AP)  Roger Federer advanc...</td>\n",
       "      <td>http://www.tennis.com/pro-game/2018/10/copil-s...</td>\n",
       "    </tr>\n",
       "    <tr>\n",
       "      <th>2</th>\n",
       "      <td>3</td>\n",
       "      <td>Tennis: Roger Federer ignored deadline set by ...</td>\n",
       "      <td>Roger Federer has revealed that organisers of ...</td>\n",
       "      <td>https://scroll.in/field/899938/tennis-roger-fe...</td>\n",
       "    </tr>\n",
       "    <tr>\n",
       "      <th>3</th>\n",
       "      <td>4</td>\n",
       "      <td>Nishikori to face off against Anderson in Vien...</td>\n",
       "      <td>Kei Nishikori will try to end his long losing ...</td>\n",
       "      <td>http://www.tennis.com/pro-game/2018/10/nishiko...</td>\n",
       "    </tr>\n",
       "    <tr>\n",
       "      <th>4</th>\n",
       "      <td>5</td>\n",
       "      <td>Roger Federer has made this huge change to ten...</td>\n",
       "      <td>Federer, 37, first broke through on tour over ...</td>\n",
       "      <td>https://www.express.co.uk/sport/tennis/1036101...</td>\n",
       "    </tr>\n",
       "  </tbody>\n",
       "</table>\n",
       "</div>"
      ],
      "text/plain": [
       "   article_id                                      article_title  \\\n",
       "0           1  I do not have friends in tennis, says Maria Sh...   \n",
       "1           2  Federer defeats Medvedev to advance to 14th Sw...   \n",
       "2           3  Tennis: Roger Federer ignored deadline set by ...   \n",
       "3           4  Nishikori to face off against Anderson in Vien...   \n",
       "4           5  Roger Federer has made this huge change to ten...   \n",
       "\n",
       "                                        article_text  \\\n",
       "0  Maria Sharapova has basically no friends as te...   \n",
       "1  BASEL, Switzerland (AP)  Roger Federer advanc...   \n",
       "2  Roger Federer has revealed that organisers of ...   \n",
       "3  Kei Nishikori will try to end his long losing ...   \n",
       "4  Federer, 37, first broke through on tour over ...   \n",
       "\n",
       "                                              source  \n",
       "0  https://www.tennisworldusa.org/tennis/news/Mar...  \n",
       "1  http://www.tennis.com/pro-game/2018/10/copil-s...  \n",
       "2  https://scroll.in/field/899938/tennis-roger-fe...  \n",
       "3  http://www.tennis.com/pro-game/2018/10/nishiko...  \n",
       "4  https://www.express.co.uk/sport/tennis/1036101...  "
      ]
     },
     "execution_count": 4,
     "metadata": {},
     "output_type": "execute_result"
    }
   ],
   "source": [
    "data.head()"
   ]
  },
  {
   "cell_type": "code",
   "execution_count": 5,
   "id": "ce90b91d",
   "metadata": {
    "execution": {
     "iopub.execute_input": "2024-03-16T12:17:45.410313Z",
     "iopub.status.busy": "2024-03-16T12:17:45.409495Z",
     "iopub.status.idle": "2024-03-16T12:17:45.422437Z",
     "shell.execute_reply": "2024-03-16T12:17:45.421242Z"
    },
    "papermill": {
     "duration": 0.032817,
     "end_time": "2024-03-16T12:17:45.425548",
     "exception": false,
     "start_time": "2024-03-16T12:17:45.392731",
     "status": "completed"
    },
    "tags": []
   },
   "outputs": [],
   "source": [
    "df = data.drop(columns=[\"article_title\"])\n"
   ]
  },
  {
   "cell_type": "code",
   "execution_count": 6,
   "id": "afca75f0",
   "metadata": {
    "execution": {
     "iopub.execute_input": "2024-03-16T12:17:45.455959Z",
     "iopub.status.busy": "2024-03-16T12:17:45.455167Z",
     "iopub.status.idle": "2024-03-16T12:17:45.468236Z",
     "shell.execute_reply": "2024-03-16T12:17:45.466881Z"
    },
    "papermill": {
     "duration": 0.031633,
     "end_time": "2024-03-16T12:17:45.471080",
     "exception": false,
     "start_time": "2024-03-16T12:17:45.439447",
     "status": "completed"
    },
    "tags": []
   },
   "outputs": [
    {
     "data": {
      "text/html": [
       "<div>\n",
       "<style scoped>\n",
       "    .dataframe tbody tr th:only-of-type {\n",
       "        vertical-align: middle;\n",
       "    }\n",
       "\n",
       "    .dataframe tbody tr th {\n",
       "        vertical-align: top;\n",
       "    }\n",
       "\n",
       "    .dataframe thead th {\n",
       "        text-align: right;\n",
       "    }\n",
       "</style>\n",
       "<table border=\"1\" class=\"dataframe\">\n",
       "  <thead>\n",
       "    <tr style=\"text-align: right;\">\n",
       "      <th></th>\n",
       "      <th>article_id</th>\n",
       "      <th>article_text</th>\n",
       "      <th>source</th>\n",
       "    </tr>\n",
       "  </thead>\n",
       "  <tbody>\n",
       "    <tr>\n",
       "      <th>0</th>\n",
       "      <td>1</td>\n",
       "      <td>Maria Sharapova has basically no friends as te...</td>\n",
       "      <td>https://www.tennisworldusa.org/tennis/news/Mar...</td>\n",
       "    </tr>\n",
       "    <tr>\n",
       "      <th>1</th>\n",
       "      <td>2</td>\n",
       "      <td>BASEL, Switzerland (AP)  Roger Federer advanc...</td>\n",
       "      <td>http://www.tennis.com/pro-game/2018/10/copil-s...</td>\n",
       "    </tr>\n",
       "    <tr>\n",
       "      <th>2</th>\n",
       "      <td>3</td>\n",
       "      <td>Roger Federer has revealed that organisers of ...</td>\n",
       "      <td>https://scroll.in/field/899938/tennis-roger-fe...</td>\n",
       "    </tr>\n",
       "    <tr>\n",
       "      <th>3</th>\n",
       "      <td>4</td>\n",
       "      <td>Kei Nishikori will try to end his long losing ...</td>\n",
       "      <td>http://www.tennis.com/pro-game/2018/10/nishiko...</td>\n",
       "    </tr>\n",
       "    <tr>\n",
       "      <th>4</th>\n",
       "      <td>5</td>\n",
       "      <td>Federer, 37, first broke through on tour over ...</td>\n",
       "      <td>https://www.express.co.uk/sport/tennis/1036101...</td>\n",
       "    </tr>\n",
       "  </tbody>\n",
       "</table>\n",
       "</div>"
      ],
      "text/plain": [
       "   article_id                                       article_text  \\\n",
       "0           1  Maria Sharapova has basically no friends as te...   \n",
       "1           2  BASEL, Switzerland (AP)  Roger Federer advanc...   \n",
       "2           3  Roger Federer has revealed that organisers of ...   \n",
       "3           4  Kei Nishikori will try to end his long losing ...   \n",
       "4           5  Federer, 37, first broke through on tour over ...   \n",
       "\n",
       "                                              source  \n",
       "0  https://www.tennisworldusa.org/tennis/news/Mar...  \n",
       "1  http://www.tennis.com/pro-game/2018/10/copil-s...  \n",
       "2  https://scroll.in/field/899938/tennis-roger-fe...  \n",
       "3  http://www.tennis.com/pro-game/2018/10/nishiko...  \n",
       "4  https://www.express.co.uk/sport/tennis/1036101...  "
      ]
     },
     "execution_count": 6,
     "metadata": {},
     "output_type": "execute_result"
    }
   ],
   "source": [
    "df.head()"
   ]
  },
  {
   "cell_type": "code",
   "execution_count": 7,
   "id": "76494549",
   "metadata": {
    "execution": {
     "iopub.execute_input": "2024-03-16T12:17:45.502594Z",
     "iopub.status.busy": "2024-03-16T12:17:45.501341Z",
     "iopub.status.idle": "2024-03-16T12:17:45.511528Z",
     "shell.execute_reply": "2024-03-16T12:17:45.510217Z"
    },
    "papermill": {
     "duration": 0.029275,
     "end_time": "2024-03-16T12:17:45.514620",
     "exception": false,
     "start_time": "2024-03-16T12:17:45.485345",
     "status": "completed"
    },
    "tags": []
   },
   "outputs": [
    {
     "data": {
      "text/plain": [
       "\"BASEL, Switzerland (AP) \\x97 Roger Federer advanced to the 14th Swiss Indoors final of his career by beating seventh-seeded Daniil Medvedev 6-1, 6-4 on Saturday. Seeking a ninth title at his hometown event, and a 99th overall, Federer will play 93th-ranked Marius Copil on Sunday. Federer dominated the 20th-ranked Medvedev and had his first match-point chance to break serve again at 5-1. He then dropped his serve to love, and let another match point slip in Medvedev's next service game by netting a backhand. He clinched on his fourth chance when Medvedev netted from the baseline. Copil upset expectations of a Federer final against Alexander Zverev in a 6-3, 6-7 (6), 6-4 win over the fifth-ranked German in the earlier semifinal. The Romanian aims for a first title after arriving at Basel without a career win over a top-10 opponent. Copil has two after also beating No. 6 Marin Cilic in the second round. Copil fired 26 aces past Zverev and never dropped serve, clinching after 2 1/2 hours with a forehand volley winner to break Zverev for the second time in the semifinal. He came through two rounds of qualifying last weekend to reach the Basel main draw, including beating Zverev's older brother, Mischa. Federer had an easier time than in his only previous match against Medvedev, a three-setter at Shanghai two weeks ago.\""
      ]
     },
     "execution_count": 7,
     "metadata": {},
     "output_type": "execute_result"
    }
   ],
   "source": [
    "df['article_text'][1]"
   ]
  },
  {
   "cell_type": "markdown",
   "id": "f2ef88bc",
   "metadata": {
    "papermill": {
     "duration": 0.014017,
     "end_time": "2024-03-16T12:17:45.543330",
     "exception": false,
     "start_time": "2024-03-16T12:17:45.529313",
     "status": "completed"
    },
    "tags": []
   },
   "source": [
    "**Preprocessing**"
   ]
  },
  {
   "cell_type": "code",
   "execution_count": 8,
   "id": "9a02559b",
   "metadata": {
    "execution": {
     "iopub.execute_input": "2024-03-16T12:17:45.575611Z",
     "iopub.status.busy": "2024-03-16T12:17:45.574645Z",
     "iopub.status.idle": "2024-03-16T12:17:45.580361Z",
     "shell.execute_reply": "2024-03-16T12:17:45.579098Z"
    },
    "papermill": {
     "duration": 0.026101,
     "end_time": "2024-03-16T12:17:45.583600",
     "exception": false,
     "start_time": "2024-03-16T12:17:45.557499",
     "status": "completed"
    },
    "tags": []
   },
   "outputs": [],
   "source": [
    "from nltk.tokenize import sent_tokenize"
   ]
  },
  {
   "cell_type": "code",
   "execution_count": 9,
   "id": "ff97b8b5",
   "metadata": {
    "execution": {
     "iopub.execute_input": "2024-03-16T12:17:45.614775Z",
     "iopub.status.busy": "2024-03-16T12:17:45.614016Z",
     "iopub.status.idle": "2024-03-16T12:17:45.647447Z",
     "shell.execute_reply": "2024-03-16T12:17:45.645723Z"
    },
    "papermill": {
     "duration": 0.053189,
     "end_time": "2024-03-16T12:17:45.650941",
     "exception": false,
     "start_time": "2024-03-16T12:17:45.597752",
     "status": "completed"
    },
    "tags": []
   },
   "outputs": [],
   "source": [
    "sentences = []\n",
    "for article in df['article_text'] :\n",
    "    sentences.append(sent_tokenize(article))\n",
    "\n",
    "sentences = [y for x in sentences for y in x]\n"
   ]
  },
  {
   "cell_type": "markdown",
   "id": "b6099442",
   "metadata": {
    "papermill": {
     "duration": 0.014397,
     "end_time": "2024-03-16T12:17:45.679492",
     "exception": false,
     "start_time": "2024-03-16T12:17:45.665095",
     "status": "completed"
    },
    "tags": []
   },
   "source": [
    "Word Embedding - GloVe (Global vectors for Word representation)"
   ]
  },
  {
   "cell_type": "code",
   "execution_count": 10,
   "id": "cf5e566f",
   "metadata": {
    "execution": {
     "iopub.execute_input": "2024-03-16T12:17:45.711615Z",
     "iopub.status.busy": "2024-03-16T12:17:45.711146Z",
     "iopub.status.idle": "2024-03-16T12:17:45.716147Z",
     "shell.execute_reply": "2024-03-16T12:17:45.714844Z"
    },
    "papermill": {
     "duration": 0.024351,
     "end_time": "2024-03-16T12:17:45.718824",
     "exception": false,
     "start_time": "2024-03-16T12:17:45.694473",
     "status": "completed"
    },
    "tags": []
   },
   "outputs": [],
   "source": [
    "glove_file = \"../input/glove6b100dtxt/glove.6B.100d.txt\""
   ]
  },
  {
   "cell_type": "code",
   "execution_count": 11,
   "id": "e34040ec",
   "metadata": {
    "execution": {
     "iopub.execute_input": "2024-03-16T12:17:45.749748Z",
     "iopub.status.busy": "2024-03-16T12:17:45.749280Z",
     "iopub.status.idle": "2024-03-16T12:18:00.980086Z",
     "shell.execute_reply": "2024-03-16T12:18:00.978820Z"
    },
    "papermill": {
     "duration": 15.250233,
     "end_time": "2024-03-16T12:18:00.983331",
     "exception": false,
     "start_time": "2024-03-16T12:17:45.733098",
     "status": "completed"
    },
    "tags": []
   },
   "outputs": [],
   "source": [
    "# Load GloVe embeddings file\n",
    "def load_glove_embeddings(embeddings_file):\n",
    "    embeddings = {}\n",
    "    with open(embeddings_file, 'r', encoding='utf-8') as f:\n",
    "        for line in f:\n",
    "            values = line.split()\n",
    "            word = values[0]\n",
    "            vector = np.array(values[1:], dtype='float32')\n",
    "            embeddings[word] = vector\n",
    "    return embeddings\n",
    "\n",
    "# Example usage\n",
    "glove_embeddings = load_glove_embeddings(glove_file)"
   ]
  },
  {
   "cell_type": "code",
   "execution_count": 12,
   "id": "cc7bfad2",
   "metadata": {
    "execution": {
     "iopub.execute_input": "2024-03-16T12:18:01.014852Z",
     "iopub.status.busy": "2024-03-16T12:18:01.014326Z",
     "iopub.status.idle": "2024-03-16T12:18:01.021557Z",
     "shell.execute_reply": "2024-03-16T12:18:01.020360Z"
    },
    "papermill": {
     "duration": 0.026522,
     "end_time": "2024-03-16T12:18:01.024432",
     "exception": false,
     "start_time": "2024-03-16T12:18:00.997910",
     "status": "completed"
    },
    "tags": []
   },
   "outputs": [
    {
     "data": {
      "text/plain": [
       "400000"
      ]
     },
     "execution_count": 12,
     "metadata": {},
     "output_type": "execute_result"
    }
   ],
   "source": [
    "len(glove_embeddings)"
   ]
  },
  {
   "cell_type": "code",
   "execution_count": 13,
   "id": "174bb50d",
   "metadata": {
    "execution": {
     "iopub.execute_input": "2024-03-16T12:18:01.055065Z",
     "iopub.status.busy": "2024-03-16T12:18:01.054169Z",
     "iopub.status.idle": "2024-03-16T12:18:01.063822Z",
     "shell.execute_reply": "2024-03-16T12:18:01.062587Z"
    },
    "papermill": {
     "duration": 0.028706,
     "end_time": "2024-03-16T12:18:01.067210",
     "exception": false,
     "start_time": "2024-03-16T12:18:01.038504",
     "status": "completed"
    },
    "tags": []
   },
   "outputs": [
    {
     "name": "stdout",
     "output_type": "stream",
     "text": [
      "[-0.81987   -0.36602    0.010225   0.30581   -0.40235    0.27468\n",
      " -0.13116    0.56296    0.27195   -0.078814   0.23822    1.1835\n",
      " -0.26922   -0.01555    0.33746   -0.61731   -0.32372    0.16697\n",
      "  0.084303   1.0162    -0.61549   -0.27345    0.67037   -0.15805\n",
      "  0.068873   0.94155   -0.56538   -0.11317   -0.64022   -0.80405\n",
      " -0.36348   -0.31551   -0.45235   -0.0067441 -0.55904   -0.073975\n",
      "  0.37722    0.32483   -0.0032219 -0.22344   -0.22925    0.89231\n",
      "  0.26478   -0.62967    0.1059     0.32755   -0.24942    0.23814\n",
      "  0.11616    0.92896   -0.90635    0.54281   -0.36051   -0.30946\n",
      " -0.11045    0.056876  -0.28454   -0.067826  -0.57253   -0.19346\n",
      "  0.40167   -0.0078061  0.11282    0.61507   -0.43525   -0.056226\n",
      " -0.061505   0.0036911 -0.017236   0.59829   -0.20246   -0.048012\n",
      "  0.19081   -0.50655   -0.76171   -0.12845   -0.86558   -0.56953\n",
      "  0.50687    0.10509   -0.50987   -0.64946   -0.01097   -0.45895\n",
      " -0.23019    0.59051   -0.65717    0.33747   -0.66772    0.29055\n",
      " -0.41147    0.062058  -0.025703   0.46558   -0.12209    0.46417\n",
      "  0.17615   -0.53589   -0.75956   -0.382    ]\n"
     ]
    }
   ],
   "source": [
    "word = \"suraj\"\n",
    "if word in glove_embeddings :\n",
    "    vec = glove_embeddings[word]\n",
    "#     print(vec)\n",
    "print(vec)"
   ]
  },
  {
   "cell_type": "code",
   "execution_count": 14,
   "id": "cf7b88b3",
   "metadata": {
    "execution": {
     "iopub.execute_input": "2024-03-16T12:18:01.099277Z",
     "iopub.status.busy": "2024-03-16T12:18:01.097765Z",
     "iopub.status.idle": "2024-03-16T12:18:01.105443Z",
     "shell.execute_reply": "2024-03-16T12:18:01.104446Z"
    },
    "papermill": {
     "duration": 0.026338,
     "end_time": "2024-03-16T12:18:01.108156",
     "exception": false,
     "start_time": "2024-03-16T12:18:01.081818",
     "status": "completed"
    },
    "tags": []
   },
   "outputs": [],
   "source": [
    "clean_sent = pd.Series(sentences).str.replace(\"[^a-zA-z]\", \" \")"
   ]
  },
  {
   "cell_type": "code",
   "execution_count": 15,
   "id": "40563037",
   "metadata": {
    "execution": {
     "iopub.execute_input": "2024-03-16T12:18:01.139460Z",
     "iopub.status.busy": "2024-03-16T12:18:01.138979Z",
     "iopub.status.idle": "2024-03-16T12:18:01.145288Z",
     "shell.execute_reply": "2024-03-16T12:18:01.143997Z"
    },
    "papermill": {
     "duration": 0.024924,
     "end_time": "2024-03-16T12:18:01.147891",
     "exception": false,
     "start_time": "2024-03-16T12:18:01.122967",
     "status": "completed"
    },
    "tags": []
   },
   "outputs": [],
   "source": [
    "clean_sent = [sent.lower() for sent in clean_sent]         "
   ]
  },
  {
   "cell_type": "code",
   "execution_count": 16,
   "id": "c1888b22",
   "metadata": {
    "execution": {
     "iopub.execute_input": "2024-03-16T12:18:01.179357Z",
     "iopub.status.busy": "2024-03-16T12:18:01.178885Z",
     "iopub.status.idle": "2024-03-16T12:18:01.185530Z",
     "shell.execute_reply": "2024-03-16T12:18:01.184095Z"
    },
    "papermill": {
     "duration": 0.026036,
     "end_time": "2024-03-16T12:18:01.188782",
     "exception": false,
     "start_time": "2024-03-16T12:18:01.162746",
     "status": "completed"
    },
    "tags": []
   },
   "outputs": [
    {
     "name": "stdout",
     "output_type": "stream",
     "text": [
      "maria sharapova has basically no friends as tennis players on the wta tour.\n"
     ]
    }
   ],
   "source": [
    "print(clean_sent[0])"
   ]
  },
  {
   "cell_type": "markdown",
   "id": "b57c8357",
   "metadata": {
    "papermill": {
     "duration": 0.015047,
     "end_time": "2024-03-16T12:18:01.218695",
     "exception": false,
     "start_time": "2024-03-16T12:18:01.203648",
     "status": "completed"
    },
    "tags": []
   },
   "source": [
    "**Importing stopwords using NLTK package**"
   ]
  },
  {
   "cell_type": "code",
   "execution_count": 17,
   "id": "d1ae0371",
   "metadata": {
    "execution": {
     "iopub.execute_input": "2024-03-16T12:18:01.250086Z",
     "iopub.status.busy": "2024-03-16T12:18:01.249580Z",
     "iopub.status.idle": "2024-03-16T12:18:01.261660Z",
     "shell.execute_reply": "2024-03-16T12:18:01.260437Z"
    },
    "papermill": {
     "duration": 0.031539,
     "end_time": "2024-03-16T12:18:01.264871",
     "exception": false,
     "start_time": "2024-03-16T12:18:01.233332",
     "status": "completed"
    },
    "tags": []
   },
   "outputs": [],
   "source": [
    "from nltk.corpus import stopwords\n",
    "stop_words = stopwords.words('english')"
   ]
  },
  {
   "cell_type": "markdown",
   "id": "2da98bdd",
   "metadata": {
    "papermill": {
     "duration": 0.014158,
     "end_time": "2024-03-16T12:18:01.293729",
     "exception": false,
     "start_time": "2024-03-16T12:18:01.279571",
     "status": "completed"
    },
    "tags": []
   },
   "source": [
    "***Importing stopwords using dataset***"
   ]
  },
  {
   "cell_type": "code",
   "execution_count": 18,
   "id": "1a058851",
   "metadata": {
    "execution": {
     "iopub.execute_input": "2024-03-16T12:18:01.328149Z",
     "iopub.status.busy": "2024-03-16T12:18:01.327585Z",
     "iopub.status.idle": "2024-03-16T12:18:01.346856Z",
     "shell.execute_reply": "2024-03-16T12:18:01.345405Z"
    },
    "papermill": {
     "duration": 0.040136,
     "end_time": "2024-03-16T12:18:01.350354",
     "exception": false,
     "start_time": "2024-03-16T12:18:01.310218",
     "status": "completed"
    },
    "tags": []
   },
   "outputs": [
    {
     "name": "stdout",
     "output_type": "stream",
     "text": [
      "153\n"
     ]
    }
   ],
   "source": [
    "with open(stopwords_path, 'r') as f:\n",
    "    stopwords = f.read().splitlines()\n",
    "print(len(stopwords))"
   ]
  },
  {
   "cell_type": "code",
   "execution_count": 19,
   "id": "c72c1ac2",
   "metadata": {
    "execution": {
     "iopub.execute_input": "2024-03-16T12:18:01.382051Z",
     "iopub.status.busy": "2024-03-16T12:18:01.381544Z",
     "iopub.status.idle": "2024-03-16T12:18:01.387986Z",
     "shell.execute_reply": "2024-03-16T12:18:01.386599Z"
    },
    "papermill": {
     "duration": 0.02557,
     "end_time": "2024-03-16T12:18:01.390672",
     "exception": false,
     "start_time": "2024-03-16T12:18:01.365102",
     "status": "completed"
    },
    "tags": []
   },
   "outputs": [],
   "source": [
    "def remove_stopwords(sentence):\n",
    "    new_sen = \" \".join([i for i in sentence if i not in stop_words])\n",
    "    return new_sen"
   ]
  },
  {
   "cell_type": "code",
   "execution_count": 20,
   "id": "d604bc96",
   "metadata": {
    "execution": {
     "iopub.execute_input": "2024-03-16T12:18:01.422591Z",
     "iopub.status.busy": "2024-03-16T12:18:01.422123Z",
     "iopub.status.idle": "2024-03-16T12:18:01.428444Z",
     "shell.execute_reply": "2024-03-16T12:18:01.427018Z"
    },
    "papermill": {
     "duration": 0.025468,
     "end_time": "2024-03-16T12:18:01.431046",
     "exception": false,
     "start_time": "2024-03-16T12:18:01.405578",
     "status": "completed"
    },
    "tags": []
   },
   "outputs": [
    {
     "name": "stdout",
     "output_type": "stream",
     "text": [
      "179\n"
     ]
    }
   ],
   "source": [
    "print(len(stop_words))"
   ]
  },
  {
   "cell_type": "code",
   "execution_count": 21,
   "id": "21b9ca90",
   "metadata": {
    "execution": {
     "iopub.execute_input": "2024-03-16T12:18:01.462253Z",
     "iopub.status.busy": "2024-03-16T12:18:01.461739Z",
     "iopub.status.idle": "2024-03-16T12:18:01.474581Z",
     "shell.execute_reply": "2024-03-16T12:18:01.473268Z"
    },
    "papermill": {
     "duration": 0.031883,
     "end_time": "2024-03-16T12:18:01.477381",
     "exception": false,
     "start_time": "2024-03-16T12:18:01.445498",
     "status": "completed"
    },
    "tags": []
   },
   "outputs": [],
   "source": [
    "clean_sentences = [remove_stopwords(sentence.split()) for sentence in clean_sent]"
   ]
  },
  {
   "cell_type": "code",
   "execution_count": 22,
   "id": "6a778c3a",
   "metadata": {
    "execution": {
     "iopub.execute_input": "2024-03-16T12:18:01.509295Z",
     "iopub.status.busy": "2024-03-16T12:18:01.508752Z",
     "iopub.status.idle": "2024-03-16T12:18:01.517141Z",
     "shell.execute_reply": "2024-03-16T12:18:01.515854Z"
    },
    "papermill": {
     "duration": 0.027525,
     "end_time": "2024-03-16T12:18:01.519766",
     "exception": false,
     "start_time": "2024-03-16T12:18:01.492241",
     "status": "completed"
    },
    "tags": []
   },
   "outputs": [
    {
     "data": {
      "text/plain": [
       "['maria sharapova basically friends tennis players wta tour.',\n",
       " \"russian player problems openly speaking recent interview said: 'i really hide feelings much.\",\n",
       " 'think everyone knows job here.',\n",
       " \"i'm courts i'm court playing, i'm competitor want beat every single person whether they're locker room across net.\",\n",
       " \"i'm one strike conversation weather know next minutes go try win tennis match.\"]"
      ]
     },
     "execution_count": 22,
     "metadata": {},
     "output_type": "execute_result"
    }
   ],
   "source": [
    "clean_sentences[:5]"
   ]
  },
  {
   "cell_type": "markdown",
   "id": "ec416e98",
   "metadata": {
    "papermill": {
     "duration": 0.014719,
     "end_time": "2024-03-16T12:18:01.549464",
     "exception": false,
     "start_time": "2024-03-16T12:18:01.534745",
     "status": "completed"
    },
    "tags": []
   },
   "source": [
    "**Vector representation of the sentences**"
   ]
  },
  {
   "cell_type": "code",
   "execution_count": 23,
   "id": "185a616c",
   "metadata": {
    "execution": {
     "iopub.execute_input": "2024-03-16T12:18:01.581284Z",
     "iopub.status.busy": "2024-03-16T12:18:01.580774Z",
     "iopub.status.idle": "2024-03-16T12:18:15.735457Z",
     "shell.execute_reply": "2024-03-16T12:18:15.733942Z"
    },
    "papermill": {
     "duration": 14.17439,
     "end_time": "2024-03-16T12:18:15.738743",
     "exception": false,
     "start_time": "2024-03-16T12:18:01.564353",
     "status": "completed"
    },
    "tags": []
   },
   "outputs": [],
   "source": [
    "word_embeddings = {}\n",
    "f = open(glove_file, encoding = 'utf-8')\n",
    "\n",
    "for line in f:\n",
    "    values = line.split()\n",
    "    word = values[0]\n",
    "    coefs = np.asarray(values[1:], dtype = 'float32')\n",
    "    word_embeddings[word] = coefs\n",
    "f.close()"
   ]
  },
  {
   "cell_type": "code",
   "execution_count": 24,
   "id": "ce78bd2a",
   "metadata": {
    "execution": {
     "iopub.execute_input": "2024-03-16T12:18:15.771314Z",
     "iopub.status.busy": "2024-03-16T12:18:15.770837Z",
     "iopub.status.idle": "2024-03-16T12:18:15.779355Z",
     "shell.execute_reply": "2024-03-16T12:18:15.778038Z"
    },
    "papermill": {
     "duration": 0.028036,
     "end_time": "2024-03-16T12:18:15.782136",
     "exception": false,
     "start_time": "2024-03-16T12:18:15.754100",
     "status": "completed"
    },
    "tags": []
   },
   "outputs": [
    {
     "data": {
      "text/plain": [
       "(100,)"
      ]
     },
     "execution_count": 24,
     "metadata": {},
     "output_type": "execute_result"
    }
   ],
   "source": [
    "word_embeddings['hello'].shape"
   ]
  },
  {
   "cell_type": "code",
   "execution_count": 25,
   "id": "af756c56",
   "metadata": {
    "execution": {
     "iopub.execute_input": "2024-03-16T12:18:15.815370Z",
     "iopub.status.busy": "2024-03-16T12:18:15.814883Z",
     "iopub.status.idle": "2024-03-16T12:18:15.829619Z",
     "shell.execute_reply": "2024-03-16T12:18:15.828304Z"
    },
    "papermill": {
     "duration": 0.035606,
     "end_time": "2024-03-16T12:18:15.833031",
     "exception": false,
     "start_time": "2024-03-16T12:18:15.797425",
     "status": "completed"
    },
    "tags": []
   },
   "outputs": [],
   "source": [
    "sentence_vectors = []\n",
    "for i in clean_sentences:\n",
    "    if(len(i) != 0) :\n",
    "        v = sum([word_embeddings.get(w,np.zeros((100,))) for w in i.split()])/ (len(i.split() ) + 0.001)\n",
    "    else :\n",
    "        v = np.zeros((100,))\n",
    "    sentence_vectors.append(v)"
   ]
  },
  {
   "cell_type": "code",
   "execution_count": null,
   "id": "f979022c",
   "metadata": {
    "execution": {
     "iopub.execute_input": "2024-03-16T11:47:34.139018Z",
     "iopub.status.busy": "2024-03-16T11:47:34.138570Z",
     "iopub.status.idle": "2024-03-16T11:47:34.146383Z",
     "shell.execute_reply": "2024-03-16T11:47:34.145260Z",
     "shell.execute_reply.started": "2024-03-16T11:47:34.138983Z"
    },
    "papermill": {
     "duration": 0.015193,
     "end_time": "2024-03-16T12:18:15.864078",
     "exception": false,
     "start_time": "2024-03-16T12:18:15.848885",
     "status": "completed"
    },
    "tags": []
   },
   "outputs": [],
   "source": []
  },
  {
   "cell_type": "markdown",
   "id": "6f867d96",
   "metadata": {
    "papermill": {
     "duration": 0.014474,
     "end_time": "2024-03-16T12:18:15.893663",
     "exception": false,
     "start_time": "2024-03-16T12:18:15.879189",
     "status": "completed"
    },
    "tags": []
   },
   "source": [
    "Similarity matrix - **Cosine similarity matrix**"
   ]
  },
  {
   "cell_type": "code",
   "execution_count": 26,
   "id": "e55b0277",
   "metadata": {
    "execution": {
     "iopub.execute_input": "2024-03-16T12:18:15.925895Z",
     "iopub.status.busy": "2024-03-16T12:18:15.925393Z",
     "iopub.status.idle": "2024-03-16T12:18:15.931678Z",
     "shell.execute_reply": "2024-03-16T12:18:15.929874Z"
    },
    "papermill": {
     "duration": 0.026019,
     "end_time": "2024-03-16T12:18:15.935086",
     "exception": false,
     "start_time": "2024-03-16T12:18:15.909067",
     "status": "completed"
    },
    "tags": []
   },
   "outputs": [],
   "source": [
    "from sklearn.metrics.pairwise import cosine_similarity"
   ]
  },
  {
   "cell_type": "code",
   "execution_count": 27,
   "id": "2fe44243",
   "metadata": {
    "execution": {
     "iopub.execute_input": "2024-03-16T12:18:15.974273Z",
     "iopub.status.busy": "2024-03-16T12:18:15.972919Z",
     "iopub.status.idle": "2024-03-16T12:18:15.978646Z",
     "shell.execute_reply": "2024-03-16T12:18:15.977666Z"
    },
    "papermill": {
     "duration": 0.027473,
     "end_time": "2024-03-16T12:18:15.981467",
     "exception": false,
     "start_time": "2024-03-16T12:18:15.953994",
     "status": "completed"
    },
    "tags": []
   },
   "outputs": [],
   "source": [
    "n = len(sentences)\n",
    "similarity_matrix = np.zeros([n, n])"
   ]
  },
  {
   "cell_type": "code",
   "execution_count": 28,
   "id": "7560ab37",
   "metadata": {
    "execution": {
     "iopub.execute_input": "2024-03-16T12:18:16.014096Z",
     "iopub.status.busy": "2024-03-16T12:18:16.013314Z",
     "iopub.status.idle": "2024-03-16T12:18:20.912083Z",
     "shell.execute_reply": "2024-03-16T12:18:20.910838Z"
    },
    "papermill": {
     "duration": 4.918656,
     "end_time": "2024-03-16T12:18:20.915222",
     "exception": false,
     "start_time": "2024-03-16T12:18:15.996566",
     "status": "completed"
    },
    "tags": []
   },
   "outputs": [],
   "source": [
    "for i in range(n):\n",
    "    for j in range(n):\n",
    "        if i!=j :\n",
    "            a = sentence_vectors[i].reshape(1,100)\n",
    "            b = sentence_vectors[j].reshape(1,100)\n",
    "            similarity_matrix[i][j] = cosine_similarity(a,b)[0,0]"
   ]
  },
  {
   "cell_type": "code",
   "execution_count": 29,
   "id": "ea39875b",
   "metadata": {
    "execution": {
     "iopub.execute_input": "2024-03-16T12:18:20.948382Z",
     "iopub.status.busy": "2024-03-16T12:18:20.947908Z",
     "iopub.status.idle": "2024-03-16T12:18:20.953964Z",
     "shell.execute_reply": "2024-03-16T12:18:20.952556Z"
    },
    "papermill": {
     "duration": 0.026464,
     "end_time": "2024-03-16T12:18:20.957387",
     "exception": false,
     "start_time": "2024-03-16T12:18:20.930923",
     "status": "completed"
    },
    "tags": []
   },
   "outputs": [
    {
     "name": "stdout",
     "output_type": "stream",
     "text": [
      "(130, 130)\n"
     ]
    }
   ],
   "source": [
    "print(similarity_matrix.shape)"
   ]
  },
  {
   "cell_type": "markdown",
   "id": "3609e40c",
   "metadata": {
    "papermill": {
     "duration": 0.015136,
     "end_time": "2024-03-16T12:18:20.987608",
     "exception": false,
     "start_time": "2024-03-16T12:18:20.972472",
     "status": "completed"
    },
    "tags": []
   },
   "source": [
    "Similarity matrix -> Graph"
   ]
  },
  {
   "cell_type": "code",
   "execution_count": 30,
   "id": "42a9766a",
   "metadata": {
    "execution": {
     "iopub.execute_input": "2024-03-16T12:18:21.021750Z",
     "iopub.status.busy": "2024-03-16T12:18:21.021280Z",
     "iopub.status.idle": "2024-03-16T12:18:22.314281Z",
     "shell.execute_reply": "2024-03-16T12:18:22.312822Z"
    },
    "papermill": {
     "duration": 1.314456,
     "end_time": "2024-03-16T12:18:22.317525",
     "exception": false,
     "start_time": "2024-03-16T12:18:21.003069",
     "status": "completed"
    },
    "tags": []
   },
   "outputs": [],
   "source": [
    "import networkx as nx\n",
    "\n",
    "nx_graph = nx.from_numpy_array(similarity_matrix)\n",
    "scores = nx.pagerank(nx_graph)"
   ]
  },
  {
   "cell_type": "markdown",
   "id": "89eec1b2",
   "metadata": {
    "papermill": {
     "duration": 0.015501,
     "end_time": "2024-03-16T12:18:22.442516",
     "exception": false,
     "start_time": "2024-03-16T12:18:22.427015",
     "status": "completed"
    },
    "tags": []
   },
   "source": [
    "**Summarization**"
   ]
  },
  {
   "cell_type": "code",
   "execution_count": 31,
   "id": "a3677238",
   "metadata": {
    "execution": {
     "iopub.execute_input": "2024-03-16T12:18:22.475103Z",
     "iopub.status.busy": "2024-03-16T12:18:22.474544Z",
     "iopub.status.idle": "2024-03-16T12:18:22.482143Z",
     "shell.execute_reply": "2024-03-16T12:18:22.480652Z"
    },
    "papermill": {
     "duration": 0.027227,
     "end_time": "2024-03-16T12:18:22.484882",
     "exception": false,
     "start_time": "2024-03-16T12:18:22.457655",
     "status": "completed"
    },
    "tags": []
   },
   "outputs": [],
   "source": [
    "ranked_sentences = sorted(( (scores[i],s) for i,s in enumerate(sentences)), reverse=True)"
   ]
  },
  {
   "cell_type": "markdown",
   "id": "ed405614",
   "metadata": {
    "papermill": {
     "duration": 0.015141,
     "end_time": "2024-03-16T12:18:22.515392",
     "exception": false,
     "start_time": "2024-03-16T12:18:22.500251",
     "status": "completed"
    },
    "tags": []
   },
   "source": [
    "Extract top 10 sentences as summary"
   ]
  },
  {
   "cell_type": "code",
   "execution_count": 32,
   "id": "5498514b",
   "metadata": {
    "execution": {
     "iopub.execute_input": "2024-03-16T12:18:22.547754Z",
     "iopub.status.busy": "2024-03-16T12:18:22.547280Z",
     "iopub.status.idle": "2024-03-16T12:18:22.554994Z",
     "shell.execute_reply": "2024-03-16T12:18:22.552898Z"
    },
    "papermill": {
     "duration": 0.027623,
     "end_time": "2024-03-16T12:18:22.558083",
     "exception": false,
     "start_time": "2024-03-16T12:18:22.530460",
     "status": "completed"
    },
    "tags": []
   },
   "outputs": [
    {
     "name": "stdout",
     "output_type": "stream",
     "text": [
      "I was on a nice trajectorythen, Reid recalled.If I hadnt got sick, I think I could have started pushing towards the second week at the slams and then who knows. Duringa comeback attempt some five years later, Reid added Bernard Tomic and 2018 US Open Federer slayer John Millman to his list of career scalps.\n",
      "Full effort Nick could live out his tennis like a (Tomas) Berdych or (Jo- Wilfried) Tsonga, consistently making second week,quarters, semis, finals of slams - and then hopefully more.\n",
      "Major players feel that a big event in late November combined with one in January before the Australian Open will mean too much tennis and too little rest.\n",
      "I just felt like it really kind of changed where people were a little bit, definitely in the '90s, a lot more quiet, into themselves, and then it started to become better. Meanwhile, Federer is hoping he can improve his service game as he hunts his ninth Swiss Indoors title this week.\n",
      "I felt like the best weeks that I had to get to know players when I was playing were the Fed Cup weeks or the Olympic weeks, not necessarily during the tournaments.\n",
      "Exhausted after spending half his round deep in the bushes searching for my ball, as well as those of two other golfers hed never met before, our incredibly giving designated driver asked if we didnt mind going straight home after signing off so he could rest up a little before heading to work.\n",
      "So I'm not the one to strike up a conversation about the weather and know that in the next few minutes I have to go and try to win a tennis match.\n",
      "Speaking at the Swiss Indoors tournament where he will play in Sundays final against Romanian qualifier Marius Copil, the world number three said that given the impossibly short time frame to make a decision, he opted out of any commitment.\n",
      "The Spaniard broke Anderson twice in the second but didn't get another chance on the South African's serve in the final set.\n",
      "The former Wimbledon junior champion was full of hope, excited about getting his life back together after a troubled few years and a touch-and-go battle with pancreatitis.\n"
     ]
    }
   ],
   "source": [
    "for i in range(10):\n",
    "    print(ranked_sentences[i][1])"
   ]
  },
  {
   "cell_type": "code",
   "execution_count": null,
   "id": "3f68a9dc",
   "metadata": {
    "papermill": {
     "duration": 0.014824,
     "end_time": "2024-03-16T12:18:22.588210",
     "exception": false,
     "start_time": "2024-03-16T12:18:22.573386",
     "status": "completed"
    },
    "tags": []
   },
   "outputs": [],
   "source": []
  }
 ],
 "metadata": {
  "kaggle": {
   "accelerator": "none",
   "dataSources": [
    {
     "datasetId": 1988,
     "sourceId": 3411,
     "sourceType": "datasetVersion"
    },
    {
     "datasetId": 2120,
     "sourceId": 3570,
     "sourceType": "datasetVersion"
    },
    {
     "datasetId": 715814,
     "sourceId": 1246668,
     "sourceType": "datasetVersion"
    },
    {
     "datasetId": 1317288,
     "sourceId": 2193896,
     "sourceType": "datasetVersion"
    },
    {
     "datasetId": 4608501,
     "sourceId": 7857119,
     "sourceType": "datasetVersion"
    }
   ],
   "dockerImageVersionId": 30664,
   "isGpuEnabled": false,
   "isInternetEnabled": false,
   "language": "python",
   "sourceType": "notebook"
  },
  "kernelspec": {
   "display_name": "Python 3",
   "language": "python",
   "name": "python3"
  },
  "language_info": {
   "codemirror_mode": {
    "name": "ipython",
    "version": 3
   },
   "file_extension": ".py",
   "mimetype": "text/x-python",
   "name": "python",
   "nbconvert_exporter": "python",
   "pygments_lexer": "ipython3",
   "version": "3.10.13"
  },
  "papermill": {
   "default_parameters": {},
   "duration": 46.181506,
   "end_time": "2024-03-16T12:18:24.032675",
   "environment_variables": {},
   "exception": null,
   "input_path": "__notebook__.ipynb",
   "output_path": "__notebook__.ipynb",
   "parameters": {},
   "start_time": "2024-03-16T12:17:37.851169",
   "version": "2.5.0"
  }
 },
 "nbformat": 4,
 "nbformat_minor": 5
}
